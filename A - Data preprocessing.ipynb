{
 "cells": [
  {
   "cell_type": "markdown",
   "id": "a8a0bc71",
   "metadata": {},
   "source": [
    "# Data preprocessing\n",
    "\n",
    "This notebook shows how to build the matrices to reproduce our experiments."
   ]
  },
  {
   "cell_type": "code",
   "execution_count": null,
   "id": "73bf76f8",
   "metadata": {},
   "outputs": [],
   "source": [
    "import pandas as pd\n",
    "import scanpy as sc\n",
    "import seaborn as sns\n",
    "import numpy as np\n",
    "import matplotlib.pyplot as plt\n",
    "\n",
    "import glob\n",
    "\n",
    "from pathlib import Path\n",
    "from scipy import io\n",
    "from helps import *\n",
    "\n",
    "import warnings\n",
    "warnings.filterwarnings('ignore')\n",
    "plt.style.use('seaborn')"
   ]
  },
  {
   "cell_type": "markdown",
   "id": "a6be0ef6",
   "metadata": {},
   "source": [
    "# single-cell Grosselin2019\n",
    "The four raw matrices can be found at https://www.ncbi.nlm.nih.gov/geo/query/acc.cgi?acc=GSE117309\n",
    "\n",
    "They are GSM3290893, GSM3290894, GSM3290895 and GSM3290896"
   ]
  },
  {
   "cell_type": "code",
   "execution_count": null,
   "id": "eee3b1ab",
   "metadata": {},
   "outputs": [],
   "source": [
    "path=\"Datasets/Grosselin2019\"\n",
    "folders=sorted(glob.glob(\"Datasets/Grosselin2019/*\"))[:4]\n",
    "folders"
   ]
  },
  {
   "cell_type": "code",
   "execution_count": null,
   "id": "7cd7a2b4",
   "metadata": {},
   "outputs": [],
   "source": [
    "subtypes=[\"Basal\",\"Basal-R\",\"Lum\",\"Lum-R\"]\n",
    "dfs=[]\n",
    "labels=pd.DataFrame(columns=[\"typehisto\"])\n",
    "for fold, sub in zip(folders, subtypes):\n",
    "    print(fold, sub)\n",
    "    genes=pd.read_csv(f\"{fold}/genes.tsv\",sep=\"\\t\", header=None)\n",
    "    barcodes=pd.read_csv(f\"{fold}/barcodes.tsv\",sep=\"\\t\", header=None)\n",
    "    mat=io.mmread(f\"{fold}/matrix.mtx\")\n",
    "    d=pd.DataFrame(data=mat.toarray(), columns=barcodes[0],\n",
    "                   index=[n[5:] for n in genes[0]])\n",
    "    d.columns=[\"hs-\"+sub+\"-\"+col for col in d.columns]\n",
    "    \n",
    "    temp=pd.DataFrame(index=d.columns)\n",
    "    temp[\"typehisto\"]=sub\n",
    "    labels=pd.concat([labels,temp])\n",
    "    \n",
    "    dfs.append(d)\n",
    "    print(d.shape)"
   ]
  },
  {
   "cell_type": "code",
   "execution_count": null,
   "id": "8ce37e05",
   "metadata": {},
   "outputs": [],
   "source": [
    "sns.countplot(y=labels[\"typehisto\"], palette=[\"orange\",\"red\",\"blue\",\"cyan\"])"
   ]
  },
  {
   "cell_type": "code",
   "execution_count": null,
   "id": "53edd09b",
   "metadata": {},
   "outputs": [],
   "source": [
    "df=pd.concat(dfs, axis=1)\n",
    "a=df.columns.to_list()\n",
    "np.random.shuffle(a)\n",
    "df=df[a]\n",
    "print(df.shape)\n",
    "df.head()"
   ]
  },
  {
   "cell_type": "code",
   "execution_count": null,
   "id": "218bb4e2",
   "metadata": {},
   "outputs": [],
   "source": [
    "labels = labels[~labels.index.duplicated(keep='first')]\n",
    "labels.to_csv(\"HelperFiles/All-datasets-labels.csv\")\n",
    "#Save the raw dataset\n",
    "df.to_csv(\"Datasets/Grosselin2019/Grosselin-sc-RNA-raw.csv.gz\",compression=\"gzip\")\n",
    "labels.shape"
   ]
  },
  {
   "cell_type": "code",
   "execution_count": null,
   "id": "e1eccb2f",
   "metadata": {},
   "outputs": [],
   "source": [
    "info=pd.read_csv(\"HelperFiles/ENS-Info.txt\",sep=\"\\t\", index_col=0)\n",
    "info = info[~info.index.duplicated(keep='first')]\n",
    "sns.countplot(info.loc[df.index][\"Gene type\"])\n",
    "plt.yscale(\"log\")\n",
    "plt.show()"
   ]
  },
  {
   "cell_type": "markdown",
   "id": "ae1ef94d",
   "metadata": {},
   "source": [
    "## mRNA"
   ]
  },
  {
   "cell_type": "code",
   "execution_count": null,
   "id": "b9d9119c",
   "metadata": {},
   "outputs": [],
   "source": [
    "df=pd.read_csv(\"Datasets/Grosselin2019/Grosselin-sc-RNA-raw.csv.gz\",index_col=0)\n",
    "print(df.shape)\n",
    "df.head()"
   ]
  },
  {
   "cell_type": "code",
   "execution_count": null,
   "id": "6dbb15e3",
   "metadata": {},
   "outputs": [],
   "source": [
    "info=pd.read_csv(\"HelperFiles/ENS-Info.txt\",sep=\"\\t\", index_col=0)\n",
    "info = info[~info.index.duplicated(keep='first')]"
   ]
  },
  {
   "cell_type": "code",
   "execution_count": null,
   "id": "18fa4156",
   "metadata": {},
   "outputs": [],
   "source": [
    "df_pt=df.loc[intersection([df.index, info[info[\"Gene type\"]==\"protein_coding\"].index])]\n",
    "df_pt.shape"
   ]
  },
  {
   "cell_type": "code",
   "execution_count": null,
   "id": "c7b765b1",
   "metadata": {},
   "outputs": [],
   "source": [
    "adata=sc.AnnData(X=df_pt.T)\n",
    "print(adata.X.shape)\n",
    "sc.pp.normalize_total(adata, target_sum=1e4)\n",
    "sc.pp.log1p(adata, copy=False)\n",
    "sc.pp.highly_variable_genes(adata, min_mean=0.0, max_mean=50, min_disp=0.75)\n",
    "sc.pl.highly_variable_genes(adata)\n",
    "adata = adata[:, adata.var.highly_variable]\n",
    "plt.hist(info.loc[adata.var.index][\"Gene type\"].to_numpy())\n",
    "print(\"Final dimension:\", adata.X.shape)\n",
    "plt.show()"
   ]
  },
  {
   "cell_type": "code",
   "execution_count": null,
   "id": "e8635a79",
   "metadata": {},
   "outputs": [],
   "source": [
    "temp=pd.DataFrame(data=adata.X.T, index=adata.var.index, columns=adata.obs.index)\n",
    "print(temp.shape)\n",
    "name=\"hSBM-mRNA\"\n",
    "Path(f\"Results/{name}\").mkdir(parents=True, exist_ok=True)\n",
    "temp.to_csv(f\"Results/{name}/{name}.csv.gz\",compression=\"gzip\")"
   ]
  },
  {
   "cell_type": "markdown",
   "id": "25a411de",
   "metadata": {},
   "source": [
    "## lncRNA"
   ]
  },
  {
   "cell_type": "code",
   "execution_count": null,
   "id": "cd7521e0",
   "metadata": {},
   "outputs": [],
   "source": [
    "df=pd.read_csv(\"Datasets/Grosselin2019/Grosselin-sc-RNA-raw.csv.gz\",index_col=0)\n",
    "print(df.shape)\n",
    "df.head()"
   ]
  },
  {
   "cell_type": "code",
   "execution_count": null,
   "id": "b2eec903",
   "metadata": {},
   "outputs": [],
   "source": [
    "info=pd.read_csv(\"HelperFiles/ENS-Info.txt\",sep=\"\\t\", index_col=0)\n",
    "info = info[~info.index.duplicated(keep='first')]"
   ]
  },
  {
   "cell_type": "code",
   "execution_count": null,
   "id": "8c0c0e6e",
   "metadata": {},
   "outputs": [],
   "source": [
    "df_lnc=df.loc[intersection([df.index, info[info[\"Gene type\"]==\"lincRNA\"].index])]\n",
    "df_lnc.shape"
   ]
  },
  {
   "cell_type": "code",
   "execution_count": null,
   "id": "bb2163b3",
   "metadata": {},
   "outputs": [],
   "source": [
    "adata=sc.AnnData(X=df_lnc.T)\n",
    "print(adata.X.shape)\n",
    "sc.pp.normalize_total(adata, target_sum=1e4)\n",
    "sc.pp.log1p(adata, copy=False)\n",
    "sc.pp.highly_variable_genes(adata, min_mean=0.0, max_mean=50, min_disp=0.25)\n",
    "sc.pl.highly_variable_genes(adata)\n",
    "adata = adata[:, adata.var.highly_variable]\n",
    "plt.hist(info.loc[adata.var.index][\"Gene type\"].to_numpy())\n",
    "print(\"Final dimension:\", adata.X.shape)\n",
    "plt.show()"
   ]
  },
  {
   "cell_type": "code",
   "execution_count": null,
   "id": "bbd80f53",
   "metadata": {},
   "outputs": [],
   "source": [
    "temp=pd.DataFrame(data=adata.X.T, index=adata.var.index, columns=adata.obs.index)\n",
    "print(temp.shape)\n",
    "name=\"hSBM-lncRNA\"\n",
    "Path(f\"Results/{name}\").mkdir(parents=True, exist_ok=True)\n",
    "temp.to_csv(f\"Results/{name}/{name}.csv.gz\",compression=\"gzip\")"
   ]
  },
  {
   "cell_type": "markdown",
   "id": "ad048e2b",
   "metadata": {},
   "source": [
    "## mRNA-lncRNA"
   ]
  },
  {
   "cell_type": "code",
   "execution_count": null,
   "id": "2b3530d5",
   "metadata": {},
   "outputs": [],
   "source": [
    "df=pd.read_csv(\"Datasets/Grosselin2019/Grosselin-sc-RNA-raw.csv.gz\",index_col=0)\n",
    "print(df.shape)\n",
    "df.head()"
   ]
  },
  {
   "cell_type": "code",
   "execution_count": null,
   "id": "81d9f38e",
   "metadata": {},
   "outputs": [],
   "source": [
    "lncs=pd.read_csv(\"Results/hSBM-lncRNA/hSBM-lncRNA.csv.gz\",index_col=0, usecols=[0])\n",
    "lncs.head()"
   ]
  },
  {
   "cell_type": "code",
   "execution_count": null,
   "id": "ecfa917d",
   "metadata": {},
   "outputs": [],
   "source": [
    "ms=pd.read_csv(\"Results/hSBM-mRNA/hSBM-mRNA.csv.gz\",index_col=0, usecols=[0])\n",
    "ms.head()"
   ]
  },
  {
   "cell_type": "code",
   "execution_count": null,
   "id": "cfd6133b",
   "metadata": {},
   "outputs": [],
   "source": [
    "# Manually normalise the total count in each cell and apply log\n",
    "#then keep only the mRNAs and lncRNAs previously selected\n",
    "df=df*1e4/df.sum()\n",
    "df=np.log(1+df)\n",
    "df_tot=df.loc[flat_list([ms.index, lncs.index])]\n",
    "df_tot.shape, df_tot.min().min(), df_tot.max().max()"
   ]
  },
  {
   "cell_type": "code",
   "execution_count": null,
   "id": "8ae82bb2",
   "metadata": {
    "scrolled": false
   },
   "outputs": [],
   "source": [
    "info=pd.read_csv(\"HelperFiles/ENS-Info.txt\",sep=\"\\t\", index_col=0)\n",
    "sns.countplot(info.loc[intersection([df_tot.index, info.index])][\"Gene type\"])\n",
    "plt.show()"
   ]
  },
  {
   "cell_type": "code",
   "execution_count": null,
   "id": "0681075b",
   "metadata": {},
   "outputs": [],
   "source": [
    "name=\"hSBM-mRNA-lncRNA\"\n",
    "Path(f\"Results/{name}\").mkdir(parents=True, exist_ok=True)\n",
    "df_tot.to_csv(f\"Results/{name}/{name}.csv.gz\",compression=\"gzip\")"
   ]
  },
  {
   "cell_type": "markdown",
   "id": "f806247d",
   "metadata": {},
   "source": [
    "# Batch effect\n",
    "Here we show the procedure to desgin the batch effect test.\n",
    "All the data can be found at https://www.ncbi.nlm.nih.gov/geo/query/acc.cgi?acc=GSE161529\n",
    "\n",
    "We decided to analyse the transctiptome of seven donors:\n",
    "GSM4909253\n",
    "GSM4909254\n",
    "GSM4909257\n",
    "GSM4909263\n",
    "GSM4909265\n",
    "GSM4909266\n",
    "GSM4909268"
   ]
  },
  {
   "cell_type": "code",
   "execution_count": null,
   "id": "df3dda9f",
   "metadata": {},
   "outputs": [],
   "source": [
    "feat=pd.read_csv(\"Datasets/HealthyDonors/GSE161529_features.tsv.gz\",sep=\"\\t\",header=None)\n",
    "feat.columns=[\"ENS\",\"HUGO\",\"info\"]\n",
    "feat.head()"
   ]
  },
  {
   "cell_type": "code",
   "execution_count": null,
   "id": "aafc7047",
   "metadata": {},
   "outputs": [],
   "source": [
    "barcodes=sorted(glob.glob(\"Datasets/HealthyDonors/Barcodes/*\"))\n",
    "barcodes"
   ]
  },
  {
   "cell_type": "code",
   "execution_count": null,
   "id": "aa66ef09",
   "metadata": {},
   "outputs": [],
   "source": [
    "matrixs=sorted(glob.glob(\"Datasets/HealthyDonors/Matrixs/*\"))\n",
    "matrixs"
   ]
  },
  {
   "cell_type": "code",
   "execution_count": null,
   "id": "a2ecf750",
   "metadata": {},
   "outputs": [],
   "source": [
    "all_lab=pd.read_csv(\"HelperFiles/All-datasets-labels.csv\",index_col=0)\n",
    "all_lab.shape"
   ]
  },
  {
   "cell_type": "code",
   "execution_count": null,
   "id": "6175a165",
   "metadata": {},
   "outputs": [],
   "source": [
    "info=pd.read_csv(\"HelperFiles/ENS-Info.txt\",sep=\"\\t\", index_col=0)\n",
    "info_pt=info[info[\"Gene type\"]==\"protein_coding\"]\n",
    "info_lnc=info[info[\"Gene type\"]==\"lincRNA\"]\n",
    "info_RNA=pd.concat([info_pt,info_lnc])\n",
    "info_pt.shape, info_lnc.shape, info_RNA.shape"
   ]
  },
  {
   "cell_type": "code",
   "execution_count": null,
   "id": "55a71ebd",
   "metadata": {},
   "outputs": [],
   "source": [
    "matrixs[0][44:50]"
   ]
  },
  {
   "cell_type": "code",
   "execution_count": null,
   "id": "f17c673a",
   "metadata": {},
   "outputs": [],
   "source": [
    "# This is the slowest step: it takes about 10-12 minutes to read and process the \n",
    "# seven matrices with a i5-8265U laptop\n",
    "\n",
    "for bar, mat in zip (barcodes, matrixs):\n",
    "    print(bar,\"\\n\",mat)\n",
    "    b=pd.read_csv(bar, header=None, index_col=0)\n",
    "    m=scipy.io.mmread(mat)\n",
    "    \n",
    "    df=pd.DataFrame(data=m.todense(),\n",
    "                    index=feat[\"ENS\"],\n",
    "                    columns=[\"Health-\"+mat[44:50]+s for s in b.index])\n",
    "    \n",
    "    lab=pd.DataFrame(index=df.columns)\n",
    "    lab[\"typehisto\"]=\"Health-\"+mat[44:50]\n",
    "    all_lab=all_lab.append(lab)\n",
    "    \n",
    "    df=df.loc[intersection([df.index,info_RNA.index])]\n",
    "    print(mat[44:50], df.shape, df.min().min(), df.max().max())\n",
    "    df.to_csv(f\"Datasets/HealthyDonors/Health-{mat[44:50]}-sc-RNA-raw.csv.gz\",compression=\"gzip\")\n",
    "    del df"
   ]
  },
  {
   "cell_type": "code",
   "execution_count": null,
   "id": "e04a4a91",
   "metadata": {},
   "outputs": [],
   "source": [
    "print(all_lab.shape)\n",
    "all_lab = all_lab[~all_lab.index.duplicated(keep='first')]\n",
    "all_lab.to_csv(\"HelperFiles/All-datasets-labels.csv\")"
   ]
  },
  {
   "cell_type": "markdown",
   "id": "7613bd02",
   "metadata": {},
   "source": [
    "## mRNA"
   ]
  },
  {
   "cell_type": "code",
   "execution_count": null,
   "id": "c68d9f15",
   "metadata": {},
   "outputs": [],
   "source": [
    "files=sorted(glob.glob(\"Datasets/HealthyDonors/*.gz\"))\n",
    "files=files[1:]\n",
    "files"
   ]
  },
  {
   "cell_type": "code",
   "execution_count": null,
   "id": "95eeb7e0",
   "metadata": {},
   "outputs": [],
   "source": [
    "info=pd.read_csv(\"HelperFiles/ENS-Info.txt\",sep=\"\\t\",index_col=0)\n",
    "info = info[~info.index.duplicated(keep='first')]\n",
    "pt=info[info[\"Gene type\"]==\"protein_coding\"]\n",
    "info.shape, pt.shape"
   ]
  },
  {
   "cell_type": "code",
   "execution_count": null,
   "id": "a3697993",
   "metadata": {
    "scrolled": true
   },
   "outputs": [],
   "source": [
    "dfs=[]\n",
    "for i in range(len(files)):\n",
    "    dfs.append(pd.read_csv(files[i], index_col=0))\n",
    "    dfs[i]=dfs[i].loc[intersection([dfs[i].index,pt.index])].sample(n=1500,axis=1)\n",
    "    print(dfs[i].shape)\n",
    "    sns.countplot(info.loc[dfs[i].index][\"Gene type\"])\n",
    "    plt.show()"
   ]
  },
  {
   "cell_type": "code",
   "execution_count": null,
   "id": "5afcbc5e",
   "metadata": {},
   "outputs": [],
   "source": [
    "df_tot=pd.concat(dfs,axis=1)\n",
    "print(df_tot.shape)\n",
    "del dfs"
   ]
  },
  {
   "cell_type": "code",
   "execution_count": null,
   "id": "7bda3e7b",
   "metadata": {},
   "outputs": [],
   "source": [
    "adata=sc.AnnData(X=df_tot.T)\n",
    "sc.pp.normalize_total(adata, target_sum=1e4)\n",
    "sc.pp.log1p(adata)\n",
    "sc.pp.highly_variable_genes(adata, min_mean=0, max_mean=50, min_disp=0.75)\n",
    "sc.pl.highly_variable_genes(adata)\n",
    "adata = adata[:, adata.var.highly_variable]\n",
    "adata.X.T.shape"
   ]
  },
  {
   "cell_type": "code",
   "execution_count": null,
   "id": "85c09932",
   "metadata": {},
   "outputs": [],
   "source": [
    "temp=pd.DataFrame(data=adata.X.T, index=adata.var.index, columns=adata.obs.index)\n",
    "print(temp.shape)\n",
    "Path(f\"Results/Batch effect\").mkdir(parents=True, exist_ok=True)\n",
    "temp.to_csv(\"Results/Batch effect/Health-sc-mRNA-test-batch.csv.gz\",compression=\"gzip\")"
   ]
  },
  {
   "cell_type": "markdown",
   "id": "bf6f77d7",
   "metadata": {},
   "source": [
    "## lncRNA"
   ]
  },
  {
   "cell_type": "code",
   "execution_count": null,
   "id": "cc9dfd0d",
   "metadata": {},
   "outputs": [],
   "source": [
    "files=sorted(glob.glob(\"Datasets/HealthyDonors/*.gz\"))\n",
    "files=files[1:]\n",
    "files"
   ]
  },
  {
   "cell_type": "code",
   "execution_count": null,
   "id": "c4657235",
   "metadata": {},
   "outputs": [],
   "source": [
    "info=pd.read_csv(\"HelperFiles/ENS-Info.txt\",sep=\"\\t\",index_col=0)\n",
    "info = info[~info.index.duplicated(keep='first')]\n",
    "info_pt=info[info[\"Gene type\"]==\"protein_coding\"]\n",
    "info_lnc=info[info[\"Gene type\"]==\"lincRNA\"]\n",
    "info_pt.shape, info_lnc.shape"
   ]
  },
  {
   "cell_type": "code",
   "execution_count": null,
   "id": "13b79143",
   "metadata": {},
   "outputs": [],
   "source": [
    "mRNA=pd.read_csv(\"Results/Batch effect/Health-sc-mRNA-test-batch.csv.gz\", index_col=0)\n",
    "mRNA=mRNA.columns\n",
    "mRNA"
   ]
  },
  {
   "cell_type": "code",
   "execution_count": null,
   "id": "0f335865",
   "metadata": {
    "scrolled": true
   },
   "outputs": [],
   "source": [
    "dfs=[]\n",
    "for i in range(len(files)):\n",
    "    print(files[i])\n",
    "    df=pd.read_csv(files[i], index_col=0)\n",
    "    print(df.shape)\n",
    "    df=df[intersection([mRNA, df.columns])]\n",
    "    print(df.shape)\n",
    "    df=df.loc[intersection([df.index,info_lnc.index])]\n",
    "    print(df.shape)\n",
    "    sns.countplot(info.loc[df.index][\"Gene type\"])\n",
    "    dfs.append(df)\n",
    "    plt.show()"
   ]
  },
  {
   "cell_type": "code",
   "execution_count": null,
   "id": "445dcc11",
   "metadata": {},
   "outputs": [],
   "source": [
    "df_tot=pd.concat(dfs,axis=1)\n",
    "print(df_tot.shape)\n",
    "del dfs"
   ]
  },
  {
   "cell_type": "code",
   "execution_count": null,
   "id": "a19f041a",
   "metadata": {},
   "outputs": [],
   "source": [
    "adata=sc.AnnData(X=df_tot.T)\n",
    "sc.pp.normalize_total(adata, target_sum=1e4)\n",
    "sc.pp.log1p(adata)\n",
    "sc.pp.highly_variable_genes(adata, min_mean=0, max_mean=50, min_disp=0.25)\n",
    "sc.pl.highly_variable_genes(adata)\n",
    "adata = adata[:, adata.var.highly_variable]\n",
    "adata.X.T.shape"
   ]
  },
  {
   "cell_type": "code",
   "execution_count": null,
   "id": "3fd63ab4",
   "metadata": {},
   "outputs": [],
   "source": [
    "temp=pd.DataFrame(data=adata.X.T, index=adata.var.index, columns=adata.obs.index)\n",
    "print(temp.shape)\n",
    "Path(f\"Results/Batch effect\").mkdir(parents=True, exist_ok=True)\n",
    "temp.to_csv(f\"Results/Batch effect/Health-sc-lncRNA-test-batch.csv.gz\",compression=\"gzip\")"
   ]
  },
  {
   "cell_type": "markdown",
   "id": "7ca93e0e",
   "metadata": {},
   "source": [
    "After you built the mRNA and the lncRNA matrices it's possible to test nSBM for batch effect following notebook \"B3 - Batch effect\""
   ]
  },
  {
   "cell_type": "code",
   "execution_count": null,
   "id": "2d0a4c69",
   "metadata": {},
   "outputs": [],
   "source": []
  },
  {
   "cell_type": "code",
   "execution_count": null,
   "id": "0bc0d464",
   "metadata": {},
   "outputs": [],
   "source": []
  },
  {
   "cell_type": "code",
   "execution_count": null,
   "id": "62d94171",
   "metadata": {},
   "outputs": [],
   "source": []
  }
 ],
 "metadata": {
  "kernelspec": {
   "display_name": "Python 3 (ipykernel)",
   "language": "python",
   "name": "python3"
  },
  "language_info": {
   "codemirror_mode": {
    "name": "ipython",
    "version": 3
   },
   "file_extension": ".py",
   "mimetype": "text/x-python",
   "name": "python",
   "nbconvert_exporter": "python",
   "pygments_lexer": "ipython3",
   "version": "3.10.6"
  },
  "toc": {
   "base_numbering": 1,
   "nav_menu": {},
   "number_sections": true,
   "sideBar": true,
   "skip_h1_title": false,
   "title_cell": "Table of Contents",
   "title_sidebar": "Contents",
   "toc_cell": false,
   "toc_position": {
    "height": "calc(100% - 180px)",
    "left": "10px",
    "top": "150px",
    "width": "323.516px"
   },
   "toc_section_display": false,
   "toc_window_display": true
  }
 },
 "nbformat": 4,
 "nbformat_minor": 5
}
