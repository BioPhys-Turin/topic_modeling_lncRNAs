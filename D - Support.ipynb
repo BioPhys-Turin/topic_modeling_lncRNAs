{
 "cells": [
  {
   "cell_type": "code",
   "execution_count": null,
   "id": "60dbc44f",
   "metadata": {},
   "outputs": [],
   "source": [
    "import pandas as pd\n",
    "import seaborn as sns\n",
    "import numpy as np\n",
    "import matplotlib.pyplot as plt\n",
    "import matplotlib.gridspec as gridspec\n",
    "\n",
    "import json\n",
    "import glob\n",
    "import random\n",
    "import nmi\n",
    "import string\n",
    "\n",
    "from pathlib import Path\n",
    "from matplotlib.ticker import FormatStrFormatter\n",
    "from helps import *\n",
    "\n",
    "import warnings\n",
    "warnings.filterwarnings('ignore')\n",
    "plt.style.use('seaborn')\n",
    "plt.rcParams['font.size'] = 15\n",
    "plt.rcParams[\"xtick.labelsize\"]=13\n",
    "plt.rcParams[\"ytick.labelsize\"]=13\n",
    "plt.rcParams[\"axes.titlesize\"]=15\n",
    "plt.rcParams[\"figure.dpi\"]=600\n",
    "plt.rcParams[\"savefig.format\"]=\"pdf\"\n",
    "plt.rcParams[\"savefig.bbox\"]=\"tight\""
   ]
  },
  {
   "cell_type": "markdown",
   "id": "7d3033a0",
   "metadata": {},
   "source": [
    "# Info-ENS"
   ]
  },
  {
   "cell_type": "code",
   "execution_count": null,
   "id": "d6227bb6",
   "metadata": {},
   "outputs": [],
   "source": [
    "info=pd.read_csv(\"HelperFiles/mart_export.txt\",sep=\"\\t\", index_col=0)\n",
    "info = info[~info.index.duplicated(keep='first')]\n",
    "print(set(info[\"Gene type\"]))\n",
    "ok=info[(info[\"Gene type\"] == \"protein_coding\") ^ (info[\"Gene type\"] == \"lincRNA\")]\n",
    "info.head()"
   ]
  },
  {
   "cell_type": "code",
   "execution_count": null,
   "id": "ed0554d0",
   "metadata": {},
   "outputs": [],
   "source": [
    "gene_names=ok[\"Gene name\"].to_numpy()\n",
    "ribs=[]\n",
    "for name in gene_names:\n",
    "    if name[:3]==\"RPL\" or name[:3]==\"RPS\":\n",
    "        ribs.append(name)\n",
    "len(ribs)"
   ]
  },
  {
   "cell_type": "code",
   "execution_count": null,
   "id": "1f234aa4",
   "metadata": {},
   "outputs": [],
   "source": [
    "temp=info\n",
    "temp[\"ENS\"]=temp.index\n",
    "temp=temp.set_index(\"Gene name\")\n",
    "temp[\"Gene name\"]=temp.index\n",
    "temp[\"Gene type\"].loc[ribs]=\"RIB-pt\"\n",
    "temp.index.names=[\"Name\"]\n",
    "temp.set_index(\"ENS\", inplace=True)\n",
    "temp.to_csv(\"HelperFiles/ENS-Info.txt\",sep=\"\\t\")\n",
    "temp"
   ]
  },
  {
   "cell_type": "code",
   "execution_count": null,
   "id": "7d4fa6aa",
   "metadata": {},
   "outputs": [],
   "source": [
    "info=pd.read_csv(\"HelperFiles/ENS-Info.txt\",sep=\"\\t\", index_col=0)\n",
    "info = info[~info.index.duplicated(keep='first')]\n",
    "print(set(info[\"Gene type\"]))\n",
    "ok=info[(info[\"Gene type\"] == \"protein_coding\") ^ (info[\"Gene type\"] == \"lincRNA\")]\n",
    "info.head()"
   ]
  },
  {
   "cell_type": "code",
   "execution_count": null,
   "id": "4895d621",
   "metadata": {},
   "outputs": [],
   "source": [
    "gene_names=ok[\"Gene name\"].to_numpy()\n",
    "mt=[]\n",
    "for name in gene_names:\n",
    "    if name[:3]==\"MT-\":\n",
    "        mt.append(name)\n",
    "len(mt)"
   ]
  },
  {
   "cell_type": "code",
   "execution_count": null,
   "id": "875b8a04",
   "metadata": {},
   "outputs": [],
   "source": [
    "temp=info\n",
    "temp[\"ENS\"]=temp.index\n",
    "temp=temp.set_index(\"Gene name\")\n",
    "temp[\"Gene name\"]=temp.index\n",
    "temp[\"Gene type\"].loc[mt]=\"MT\"\n",
    "temp.index.names=[\"Name\"]\n",
    "temp.set_index(\"ENS\", inplace=True)\n",
    "temp.to_csv(\"HelperFiles/ENS-Info.txt\",sep=\"\\t\")\n",
    "temp"
   ]
  },
  {
   "cell_type": "code",
   "execution_count": null,
   "id": "494c50a2",
   "metadata": {},
   "outputs": [],
   "source": [
    "info=pd.read_csv(\"HelperFiles/ENS-Info.txt\",sep=\"\\t\", index_col=0)\n",
    "info = info[~info.index.duplicated(keep='first')]\n",
    "print(set(info[\"Gene type\"]))\n",
    "ok=info[info[\"Gene type\"] == \"lincRNA\"]\n",
    "info.head()"
   ]
  },
  {
   "cell_type": "code",
   "execution_count": null,
   "id": "ed0a30f8",
   "metadata": {},
   "outputs": [],
   "source": [
    "gene_names=ok[\"Gene name\"].to_numpy()\n",
    "mir=[]\n",
    "for name in gene_names:\n",
    "    if name[:3]==\"MIR\" or name[:3]==\"hsa\":\n",
    "        mir.append(name)\n",
    "len(mir)"
   ]
  },
  {
   "cell_type": "code",
   "execution_count": null,
   "id": "7f663557",
   "metadata": {},
   "outputs": [],
   "source": [
    "mir"
   ]
  },
  {
   "cell_type": "code",
   "execution_count": null,
   "id": "44fe0207",
   "metadata": {},
   "outputs": [],
   "source": [
    "to_change=[\"MIR296\",\"MIR24-2\",\"MIR940\",\"MIR146A\",\"MIR219-2\",\"MIR1302-11\",\"MIR4313\",\n",
    "           \"MIR145\",\"MIR194-2\",\"MIR194-2\",'MIR3179-1', 'MIR3180-1', 'MIR4453', 'MIR3180-4', 'MIR3179-2',\n",
    " 'MIR3180-2','MIR3180-3', 'MIR3179-3','MIR2117', 'MIR29A', 'MIR451B', 'MIR1302-2','MIR1587',\n",
    " 'MIR1302-10','MIR22HG', 'hsa-mir-1253', 'hsa-mir-7515','hsa-mir-8072','MIR371B', 'MIR378D2',]"
   ]
  },
  {
   "cell_type": "code",
   "execution_count": null,
   "id": "bd53659a",
   "metadata": {},
   "outputs": [],
   "source": [
    "temp=info\n",
    "temp[\"ENS\"]=temp.index\n",
    "temp=temp.set_index(\"Gene name\")\n",
    "temp[\"Gene name\"]=temp.index\n",
    "temp[\"Gene type\"].loc[to_change]=\"miRNA\"\n",
    "temp.index.names=[\"Name\"]\n",
    "temp.set_index(\"ENS\", inplace=True)\n",
    "temp.to_csv(\"HelperFiles/ENS-Info.txt\",sep=\"\\t\")\n",
    "temp"
   ]
  },
  {
   "cell_type": "markdown",
   "id": "3e2a1d50",
   "metadata": {},
   "source": [
    "# Enrichment test"
   ]
  },
  {
   "cell_type": "markdown",
   "id": "c4e33622",
   "metadata": {},
   "source": [
    "## GSEA mRNA"
   ]
  },
  {
   "cell_type": "code",
   "execution_count": null,
   "id": "d75bb189",
   "metadata": {},
   "outputs": [],
   "source": [
    "d=pd.read_csv(\"Datasets/DatabasesEnrichmentTest/Gsea/msigdb.v7.5.1.symbols.gmt\",sep=\"http://www.gsea-msigdb.org/gsea/msigdb/cards/\")\n",
    "split_strings=[]\n",
    "for i in range(len(d)):\n",
    "    split_strings.append(d.iloc[i][1].split(\"\\t\"))\n",
    "diz={}\n",
    "for lista in split_strings:\n",
    "    diz[lista[0]]=lista[1:]\n",
    "len(diz.keys())"
   ]
  },
  {
   "cell_type": "code",
   "execution_count": null,
   "id": "5263168f",
   "metadata": {},
   "outputs": [],
   "source": [
    "with open('HelperFiles/mSEA.json', 'w') as f:\n",
    "    json.dump(diz, f)"
   ]
  },
  {
   "cell_type": "markdown",
   "id": "0f930d7b",
   "metadata": {},
   "source": [
    "## lncSEA"
   ]
  },
  {
   "cell_type": "code",
   "execution_count": null,
   "id": "0aad7057",
   "metadata": {},
   "outputs": [],
   "source": [
    "files=glob.glob(\"Datasets/DatabasesEnrichmentTest/lncSEA/*csv.gz\")\n",
    "files"
   ]
  },
  {
   "cell_type": "code",
   "execution_count": null,
   "id": "5258d6ed",
   "metadata": {},
   "outputs": [],
   "source": [
    "dfs=[pd.read_csv(file, sep=\"\\t\", index_col=0) for file in files]"
   ]
  },
  {
   "cell_type": "code",
   "execution_count": null,
   "id": "ffd77757",
   "metadata": {},
   "outputs": [],
   "source": [
    "for df, file in zip(dfs, files):\n",
    "    print(file[40:], df.shape)"
   ]
  },
  {
   "cell_type": "code",
   "execution_count": null,
   "id": "34a97850",
   "metadata": {},
   "outputs": [],
   "source": [
    "shapes=pd.DataFrame(columns=[\"shape\", \"list_type\"])\n",
    "shapes[\"shape\"]=[df.shape[0] for df in dfs]\n",
    "shapes[\"list_type\"]=[file[40:-4] for file in files]\n",
    "shapes.sort_values(by=\"shape\", inplace=True)\n",
    "sns.scatterplot(data=shapes, y=\"shape\", x=\"list_type\")\n",
    "plt.xticks(rotation=90)\n",
    "plt.yscale(\"log\")\n",
    "plt.show()"
   ]
  },
  {
   "cell_type": "code",
   "execution_count": null,
   "id": "7ed59b43",
   "metadata": {},
   "outputs": [],
   "source": [
    "df_tot=pd.concat(dfs, axis=0)\n",
    "df_tot.reset_index(drop=True, inplace=True)\n",
    "print(df_tot.shape)\n",
    "df_tot.head()"
   ]
  },
  {
   "cell_type": "code",
   "execution_count": null,
   "id": "aae00e2c",
   "metadata": {},
   "outputs": [],
   "source": [
    "len(flat_list([df_tot.loc[i].LncRNA.split(\";\") for i in df_tot.index]))"
   ]
  },
  {
   "cell_type": "code",
   "execution_count": null,
   "id": "59f26cdd",
   "metadata": {},
   "outputs": [],
   "source": [
    "diz={}\n",
    "for line in df_tot.index:\n",
    "    a=df_tot.loc[line][\"Class\"]\n",
    "    b=df_tot.loc[line][\"Sub Class\"]\n",
    "    c=df_tot.loc[line][\"Set\"]\n",
    "    key=f\"{a}_{b}_{c}\"\n",
    "    diz[key]=df_tot.loc[line].LncRNA.split(\";\")\n",
    "len(set(diz.keys())), len(diz.keys())"
   ]
  },
  {
   "cell_type": "code",
   "execution_count": null,
   "id": "dc86727d",
   "metadata": {},
   "outputs": [],
   "source": [
    "with open('HelperFiles/lncSEA.json', 'w') as f:\n",
    "    json.dump(diz, f)"
   ]
  },
  {
   "cell_type": "markdown",
   "id": "98b62ef8",
   "metadata": {},
   "source": [
    "# hSBM vs nSBM with mRNA and lncRNA"
   ]
  },
  {
   "cell_type": "code",
   "execution_count": null,
   "id": "d1c74cd1",
   "metadata": {},
   "outputs": [],
   "source": [
    "dfm=pd.read_csv(\"Results/hSBM-mRNA/hSBM-mRNA.csv\", index_col=0)\n",
    "dflnc=pd.read_csv(\"Results/hSBM-lncRNA/hSBM-lncRNA.csv\", index_col=0)\n",
    "dfmlnc=pd.read_csv(\"Results/hSBM-mRNA-lncRNA/hSBM-mRNA-lncRNA.csv\", index_col=0)\n",
    "labels=pd.read_csv(\"HelperFiles/All-datasets-labels.csv\", index_col=0)\n",
    "labels=labels.loc[dfm.columns]\n",
    "labels.shape"
   ]
  },
  {
   "cell_type": "code",
   "execution_count": null,
   "id": "ca652c0f",
   "metadata": {},
   "outputs": [],
   "source": [
    "level=1\n",
    "with open(f\"Results/hSBM-mRNA/hSBM/hSBM-mRNA-cluster-level-{level}.txt\") as f:\n",
    "    clusters=json.load(f)\n",
    "cluster_df=pd.DataFrame.from_dict(clusters,orient=\"index\")\n",
    "labels[\"hSBM_m\"]=\"--\"\n",
    "for i in range(len(clusters)):\n",
    "    labels[\"hSBM_m\"].loc[np.asarray(np.asarray(clusters[str(i)])[:,0])]=i\n",
    "labels.hSBM_m=labels.hSBM_m.astype(int)\n",
    "\n",
    "with open(f\"Results/hSBM-lncRNA/hSBM/hSBM-lncRNA-cluster-level-{level}.txt\") as f:\n",
    "    clusters=json.load(f)\n",
    "cluster_df=pd.DataFrame.from_dict(clusters,orient=\"index\")\n",
    "labels[\"hSBM_lnc\"]=\"--\"\n",
    "for i in range(len(clusters)):\n",
    "    labels[\"hSBM_lnc\"].loc[np.asarray(np.asarray(clusters[str(i)])[:,0])]=i\n",
    "labels.hSBM_lnc=labels.hSBM_lnc.astype(int)\n",
    "\n",
    "with open(f\"Results/hSBM-mRNA-lncRNA/hSBM/hSBM-mRNA-lncRNA-cluster-level-{level}.txt\") as f:\n",
    "    clusters=json.load(f)\n",
    "cluster_df=pd.DataFrame.from_dict(clusters,orient=\"index\")\n",
    "labels[\"hSBM_m_lnc\"]=\"--\"\n",
    "for i in range(len(clusters)):\n",
    "    labels[\"hSBM_m_lnc\"].loc[np.asarray(np.asarray(clusters[str(i)])[:,0])]=i\n",
    "labels.hSBM_m_lnc=labels.hSBM_m_lnc.astype(int)\n",
    "\n",
    "df_clu=pd.read_csv(f\"Results/triSBM-mRNA-lncRNA/nSBM/triSBM-mRNA-lncRNA-level-{level}-clusters.csv\",\n",
    "                       index_col=0)\n",
    "df_clu=df_clu[labels.index]\n",
    "labels[\"nSBM\"]=[int(df_clu[col].argmax()) for col in df_clu.columns]\n",
    "subtypes=sorted(list(set(labels.typehisto)))\n",
    "labels.head()"
   ]
  },
  {
   "cell_type": "code",
   "execution_count": null,
   "id": "b540185f",
   "metadata": {},
   "outputs": [],
   "source": [
    "nmis={}\n",
    "nmis[\"NMI\"]=pd.DataFrame(index=labels.columns, columns=labels.columns)\n",
    "nmis[\"NMI_star\"]=pd.DataFrame(index=labels.columns, columns=labels.columns)\n",
    "nmis[\"NMI-NMI_star\"]=pd.DataFrame(index=labels.columns, columns=labels.columns)\n",
    "for col in labels.columns:\n",
    "    print(col)\n",
    "    for co in labels.columns:\n",
    "        NMI=np.around(nmi.compute_normalised_mutual_information(labels[col],labels[co]),decimals=4)\n",
    "        nmis[\"NMI\"].at[col,co]=NMI\n",
    "        nmis[\"NMI\"].at[co,col]=NMI\n",
    "        nmi_rand=0\n",
    "        for k in range(1000):\n",
    "            a=labels[co].to_list()\n",
    "            np.random.shuffle(a)\n",
    "            nmi_rand+=nmi.compute_normalised_mutual_information(labels[col],a)/1000\n",
    "        nmis[\"NMI_star\"].at[col,co]=np.around(nmi_rand,decimals=4)\n",
    "        nmis[\"NMI_star\"].at[co,col]=np.around(nmi_rand,decimals=4)\n",
    "nmis[\"NMI\"].to_csv(f\"Results/mRNA-lncRNA comparison NMI level {level}.csv\")\n",
    "nmis[\"NMI_star\"].to_csv(f\"Results/mRNA-lncRNA comparison NMI_star level {level}.csv\")\n",
    "(nmis[\"NMI\"]/nmis[\"NMI_star\"]).to_csv(f\"Results/mRNA-lncRNA comparison NMI-NMI_star level {level}.csv\")"
   ]
  },
  {
   "cell_type": "code",
   "execution_count": null,
   "id": "4f1744fb",
   "metadata": {},
   "outputs": [],
   "source": [
    "datas={}\n",
    "tipi=[\"NMI\",\"NMI_star\", \"NMI-NMI_star\"]\n",
    "nomi=[\"NMI\",\"NMI*\", \"NMI/NMI*\"]\n",
    "names=[\"hSBM-mRNA\",\"hSBM-lncRNAs\",\"hSBM-mRNA-lncRNA\",\"triSBM-mRNA-lncRNA\"]\n",
    "for tipo, nome in zip(tipi, nomi):\n",
    "    print(tipo, nome)\n",
    "    datas[nome]=pd.read_csv(f\"Results/mRNA-lncRNA comparison {tipo} level {level}.csv\",index_col=0)"
   ]
  },
  {
   "cell_type": "code",
   "execution_count": null,
   "id": "33f84f14",
   "metadata": {
    "scrolled": false
   },
   "outputs": [],
   "source": [
    "fig = plt.figure(figsize=(29,8))\n",
    "\n",
    "gs_left = gridspec.GridSpec(1, 1)\n",
    "gs_right = gridspec.GridSpec(1, 2)\n",
    "\n",
    "ax0 = fig.add_subplot(gs_left[0,0])\n",
    "ax1 = fig.add_subplot(gs_right[0,0])\n",
    "ax2 = fig.add_subplot(gs_right[0,1],sharey=ax1)\n",
    "axs=[ax0,ax1,ax2]\n",
    "\n",
    "for col, ax in zip([\"hSBM_m_lnc\",\"nSBM\"], [1,2]):\n",
    "    labels[\"typehisto_1\"]=pd.Series(list(labels[\"typehisto\"])).astype('category').cat.codes.values    \n",
    "    fraction_sites = pd.DataFrame(index=labels[col].unique(), columns=sorted(labels[\"typehisto_1\"].unique())[::-1]).fillna(0)\n",
    "    for sample in labels[[col,\"typehisto_1\"]].values:\n",
    "        fraction_sites.at[sample[0],sample[1]] += 1\n",
    "\n",
    "    fraction_sites = fraction_sites.sort_values(by=list(fraction_sites.columns), ascending=True)\n",
    "    fraction_sites.columns=subtypes[::-1]\n",
    "    fraction_sites.plot.bar(stacked=True, color=dict(zip(subtypes, nmi.set_colors(subtypes))),\n",
    "                           width=1, alpha=0.75, ax=axs[ax])    \n",
    "    \n",
    "    axs[ax].set_xlabel(\"cluster\", size=25, weight='bold')\n",
    "    axs[ax].set_ylabel(\"number of cells\", size=25, weight='bold')\n",
    "    axs[ax].yaxis.set_major_formatter(FormatStrFormatter('%.0f'))\n",
    "    axs[ax].tick_params(axis='both', which='major', labelsize=25, rotation=0)\n",
    "    \n",
    "    legend_properties = {'weight':'bold', \"size\":\"x-large\"}\n",
    "    if ax==1:\n",
    "        axs[ax].legend(loc=(0.67,0.7), prop=legend_properties)\n",
    "    else:\n",
    "        axs[ax].get_legend().remove()        \n",
    "    \n",
    "    axs[ax].text(-0.045, 1.03, string.ascii_uppercase[ax],\n",
    "                 transform=axs[ax].transAxes, size=35, weight='bold',rotation=0)\n",
    "    axs[ax].set_xticklabels([i for i in range(len(fraction_sites))])\n",
    "    ax+=1\n",
    "\n",
    "axx=sns.heatmap(datas[\"NMI/NMI*\"], annot=True, fmt=\".0f\",ax=ax0, \n",
    "                vmin= datas[\"NMI/NMI*\"].min().min(), \n",
    "                vmax=datas[\"NMI/NMI*\"].replace(datas[\"NMI/NMI*\"].max().max(),datas[\"NMI/NMI*\"].min().min()).max().max(),\n",
    "                annot_kws={\"size\":25}, cmap=sns.color_palette(\"rocket\", as_cmap=True))\n",
    "axx.tick_params(labelright=False, labelleft=True)\n",
    "ax0.text(-0.045, 1.03, string.ascii_uppercase[0], \n",
    "             transform=ax0.transAxes, size=35, weight='bold')\n",
    "cbar = axx.collections[0].colorbar\n",
    "cbar.ax.tick_params(labelsize=25)\n",
    "cbar.set_label(\"NMI/NMI*\", size=25, weight='bold')\n",
    "    \n",
    "axs[0].set_xticks([])    \n",
    "axs[0].set_yticklabels([\"typehisto\"]+names, rotation=0, size=25, weight='bold')    \n",
    "\n",
    "gs_left.update(right=0.35, wspace=0)\n",
    "gs_right.update(left=0.44, wspace=0.1)\n",
    "\n",
    "title=f\"Heatmap 4 exps and multiomic results\"\n",
    "plt.savefig(f\"Results/{title}.pdf\")\n",
    "plt.show()"
   ]
  },
  {
   "cell_type": "code",
   "execution_count": null,
   "id": "af43d025",
   "metadata": {},
   "outputs": [],
   "source": []
  },
  {
   "cell_type": "code",
   "execution_count": null,
   "id": "3bfdb825",
   "metadata": {},
   "outputs": [],
   "source": []
  },
  {
   "cell_type": "code",
   "execution_count": null,
   "id": "b9724cf3",
   "metadata": {},
   "outputs": [],
   "source": []
  }
 ],
 "metadata": {
  "kernelspec": {
   "display_name": "Python 3 (ipykernel)",
   "language": "python",
   "name": "python3"
  },
  "language_info": {
   "codemirror_mode": {
    "name": "ipython",
    "version": 3
   },
   "file_extension": ".py",
   "mimetype": "text/x-python",
   "name": "python",
   "nbconvert_exporter": "python",
   "pygments_lexer": "ipython3",
   "version": "3.10.6"
  },
  "toc": {
   "base_numbering": 1,
   "nav_menu": {},
   "number_sections": true,
   "sideBar": true,
   "skip_h1_title": false,
   "title_cell": "Table of Contents",
   "title_sidebar": "Contents",
   "toc_cell": false,
   "toc_position": {
    "height": "calc(100% - 180px)",
    "left": "10px",
    "top": "150px",
    "width": "349.091px"
   },
   "toc_section_display": true,
   "toc_window_display": true
  }
 },
 "nbformat": 4,
 "nbformat_minor": 5
}
