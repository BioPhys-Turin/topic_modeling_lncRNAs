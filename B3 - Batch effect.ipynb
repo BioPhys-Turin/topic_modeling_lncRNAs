{
 "cells": [
  {
   "cell_type": "code",
   "execution_count": null,
   "id": "7c1e5780",
   "metadata": {},
   "outputs": [],
   "source": [
    "import pandas as pd\n",
    "import seaborn as sns\n",
    "import numpy as np\n",
    "import matplotlib.pyplot as plt\n",
    "import graph_tool.all as gt\n",
    "\n",
    "\n",
    "import json\n",
    "import random\n",
    "import nmi\n",
    "import string\n",
    "import glob\n",
    "\n",
    "from pathlib import Path\n",
    "from matplotlib import gridspec\n",
    "from matplotlib.patches import Patch\n",
    "from time import localtime, strftime\n",
    "from matplotlib.ticker import FormatStrFormatter\n",
    "from sbmtm import sbmtm\n",
    "from nsbm import nsbm\n",
    "\n",
    "from helps import *\n",
    "\n",
    "import warnings\n",
    "warnings.filterwarnings('ignore')\n",
    "plt.style.use('seaborn')\n",
    "plt.rcParams['font.size'] = 15\n",
    "plt.rcParams[\"xtick.labelsize\"]=13\n",
    "plt.rcParams[\"ytick.labelsize\"]=13\n",
    "plt.rcParams[\"axes.titlesize\"]=15\n",
    "plt.rcParams[\"figure.dpi\"]=600\n",
    "plt.rcParams[\"savefig.format\"]=\"pdf\"\n",
    "plt.rcParams[\"savefig.bbox\"]=\"tight\""
   ]
  },
  {
   "cell_type": "markdown",
   "id": "2650f309",
   "metadata": {},
   "source": [
    "# Batch effect: experiment run"
   ]
  },
  {
   "cell_type": "code",
   "execution_count": null,
   "id": "21654ca8",
   "metadata": {},
   "outputs": [],
   "source": [
    "files=sorted(glob.glob(\"Results/Batch effect/*csv\"))\n",
    "files"
   ]
  },
  {
   "cell_type": "code",
   "execution_count": null,
   "id": "e9273e21",
   "metadata": {},
   "outputs": [],
   "source": [
    "mRNA=pd.read_csv(files[1],index_col=0) #pay attention to files' order in list \"files\"\n",
    "print(mRNA.shape)\n",
    "mRNA.head(3)"
   ]
  },
  {
   "cell_type": "code",
   "execution_count": null,
   "id": "e627dc01",
   "metadata": {},
   "outputs": [],
   "source": [
    "lncRNA=pd.read_csv(files[0],index_col=0) #pay attention to files' order in list \"files\"\n",
    "print(lncRNA.shape)\n",
    "lncRNA.head(3)"
   ]
  },
  {
   "cell_type": "code",
   "execution_count": null,
   "id": "e25bb511",
   "metadata": {},
   "outputs": [],
   "source": [
    "print(strftime(\"%Y-%m-%d %H:%M:%S\", localtime()))\n",
    "\n",
    "model = nsbm()\n",
    "model.make_graph_multiple_df(mRNA, [lncRNA]) #about 13-15 minutes to build the graph with a i5-8265U 4 cores 1.60 GHz lptop\n",
    "\n",
    "print(strftime(\"%Y-%m-%d %H:%M:%S\", localtime()))"
   ]
  },
  {
   "cell_type": "code",
   "execution_count": null,
   "id": "ed0664e1",
   "metadata": {},
   "outputs": [],
   "source": [
    "print(strftime(\"%Y-%m-%d %H:%M:%S\", localtime()))\n",
    "model.fit(n_init=1,verbose=False) #it takes about 30 minutes to fit the graph (n_init=1) with a i5-8265U 4 cores 1.60 GHz laptop\n",
    "print(strftime(\"%Y-%m-%d %H:%M:%S\", localtime()))"
   ]
  },
  {
   "cell_type": "code",
   "execution_count": null,
   "id": "c877ef9d",
   "metadata": {
    "scrolled": true
   },
   "outputs": [],
   "source": [
    "path_to_save=\"Results/Batch effect/nSBM/triSBM batch effect\"\n",
    "Path(path_to_save).mkdir(parents=True, exist_ok=True)\n",
    "save_levels_nSBM(model,path_to_save)"
   ]
  },
  {
   "cell_type": "markdown",
   "id": "d1e745f3",
   "metadata": {},
   "source": [
    "# Batch effect: analysis"
   ]
  },
  {
   "cell_type": "code",
   "execution_count": null,
   "id": "3ecfdde6",
   "metadata": {},
   "outputs": [],
   "source": [
    "df_mRNA=pd.read_csv(\"Results/Batch effect/Health-sc-mRNA-test-batch.csv\", index_col=0)\n",
    "df_lncRNA=pd.read_csv(\"Results/Batch effect/Health-sc-lncRNA-test-batch.csv\", index_col=0)\n",
    "df_lncRNA=df_lncRNA[df_mRNA.columns]\n",
    "df_mRNA.shape, df_lncRNA.shape"
   ]
  },
  {
   "cell_type": "code",
   "execution_count": null,
   "id": "a5b7e8b9",
   "metadata": {},
   "outputs": [],
   "source": [
    "labels=pd.read_csv(\"HelperFiles/All-datasets-labels.csv\",index_col=0)\n",
    "labels=labels.loc[df_lncRNA.columns]\n",
    "subtypes=list(sorted(set(labels.typehisto)))\n",
    "info=pd.read_csv(\"HelperFiles/ENS-Info.txt\",sep=\"\\t\", index_col=0)\n",
    "info = info[~info.index.duplicated(keep='first')]"
   ]
  },
  {
   "cell_type": "code",
   "execution_count": null,
   "id": "905e0c0d",
   "metadata": {},
   "outputs": [],
   "source": [
    "fig, axs = plt.subplots(2,2,figsize=(20,20))\n",
    "axs=axs.flatten()\n",
    "ax=0\n",
    "\n",
    "for level in range(0,4):\n",
    "    df_clu=pd.read_csv(f\"Results/Batch effect/nSBM/trisbm-batch-effect-level-{level}-clusters.csv\",\n",
    "                       index_col=0) \n",
    "    labels=labels.loc[df_clu.columns]\n",
    "    labels[\"nSBM\"]=[str(np.array(df_clu[col]).argmax()) for col in df_clu.columns]\n",
    "    \n",
    "    labels[\"typehisto_1\"]=pd.Series(list(labels[\"typehisto\"])).astype('category').cat.codes.values    \n",
    "    fraction_sites = pd.DataFrame(index=labels[\"nSBM\"].unique(), columns=sorted(labels[\"typehisto_1\"].unique())[::-1]).fillna(0)\n",
    "    for sample in labels[[\"nSBM\",\"typehisto_1\"]].values:\n",
    "        fraction_sites.at[sample[0],sample[1]] += 1\n",
    "\n",
    "    fraction_sites = fraction_sites.sort_values(by=list(fraction_sites.columns), ascending=True)\n",
    "    fraction_sites.columns=subtypes[::-1]\n",
    "    fraction_sites.plot.bar(stacked=True, color=dict(zip(subtypes, nmi.set_colors(subtypes))),\n",
    "                           width=1, alpha=0.75, ax=axs[level])    \n",
    "       \n",
    "    NMI=np.around(nmi.compute_normalised_mutual_information(labels.typehisto,labels[\"nSBM\"]),decimals=3)\n",
    "    nmi_rand=0\n",
    "    for k in range(1000):\n",
    "        a=labels[\"nSBM\"].to_list()\n",
    "        np.random.shuffle(a)\n",
    "        nmi_rand+=nmi.compute_normalised_mutual_information(labels[\"typehisto\"],a)/1000\n",
    "    axs[level].set_title(f\"NMI {NMI} NMI* {np.around(nmi_rand,decimals=4)} NMI/NMI* {np.round(NMI/nmi_rand,decimals=2)}\", size=25, weight='bold')\n",
    "  \n",
    "    axs[level].set_xlabel(\"clusters\", size=25, weight='bold')\n",
    "    axs[level].set_ylabel(\"number of cells\", size=25, weight='bold')\n",
    "    axs[level].yaxis.set_major_formatter(FormatStrFormatter('%.0f'))\n",
    "    axs[level].tick_params(axis='both', which='major', labelsize=25, rotation=0)\n",
    "    axs[level].set_xticks([])\n",
    "    \n",
    "    legend_properties = {'weight':'bold', \"size\":25}\n",
    "    if level==0:\n",
    "        axs[level].legend(loc=(0.05,0.55), prop=legend_properties)\n",
    "    else:\n",
    "        axs[level].get_legend().remove()        \n",
    "    \n",
    "    axs[level].text(-0.055, 1.05, string.ascii_uppercase[level],\n",
    "                 transform=axs[ax].transAxes, size=35, weight='bold',rotation=0)\n",
    "    ax+=1   \n",
    "    \n",
    "fig.tight_layout(pad=1)\n",
    "title=f\"triSBM batch effect\"\n",
    "plt.savefig(f\"Results/{title}.pdf\")\n",
    "plt.show()"
   ]
  },
  {
   "cell_type": "code",
   "execution_count": null,
   "id": "da4adca6",
   "metadata": {},
   "outputs": [],
   "source": []
  }
 ],
 "metadata": {
  "kernelspec": {
   "display_name": "Python 3 (ipykernel)",
   "language": "python",
   "name": "python3"
  },
  "language_info": {
   "codemirror_mode": {
    "name": "ipython",
    "version": 3
   },
   "file_extension": ".py",
   "mimetype": "text/x-python",
   "name": "python",
   "nbconvert_exporter": "python",
   "pygments_lexer": "ipython3",
   "version": "3.10.6"
  },
  "toc": {
   "base_numbering": 1,
   "nav_menu": {},
   "number_sections": true,
   "sideBar": true,
   "skip_h1_title": false,
   "title_cell": "Table of Contents",
   "title_sidebar": "Contents",
   "toc_cell": false,
   "toc_position": {
    "height": "calc(100% - 180px)",
    "left": "10px",
    "top": "150px",
    "width": "231.594px"
   },
   "toc_section_display": true,
   "toc_window_display": true
  }
 },
 "nbformat": 4,
 "nbformat_minor": 5
}
